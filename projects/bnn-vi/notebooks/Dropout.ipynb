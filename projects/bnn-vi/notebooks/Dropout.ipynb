{
 "cells": [
  {
   "cell_type": "code",
   "execution_count": 5,
   "metadata": {},
   "outputs": [],
   "source": [
    "import os\n",
    "import sys\n",
    "os.environ['CUDA_VISIBLE_DEVICES'] = '5'\n",
    "sys.path.append('../')"
   ]
  },
  {
   "cell_type": "code",
   "execution_count": 6,
   "metadata": {},
   "outputs": [],
   "source": [
    "from tqdm import tqdm\n",
    "from functools import partial\n",
    "\n",
    "import jax\n",
    "import jax.numpy as jnp\n",
    "from flax.training import checkpoints\n",
    "from flax import jax_utils\n",
    "\n",
    "from giung2.data.build import build_dataloaders\n",
    "from giung2.models.resnet import FlaxResNet\n",
    "from giung2.models.layers import ConvDropFilter\n",
    "from giung2.metrics import evaluate_acc, evaluate_nll\n",
    "\n",
    "CPU = jax.devices('cpu')[0]"
   ]
  },
  {
   "cell_type": "code",
   "execution_count": 7,
   "metadata": {},
   "outputs": [],
   "source": [
    "class DotDict(dict):\n",
    "    __getattr__ = dict.get\n",
    "    __setattr__ = dict.__setitem__\n",
    "    __delattr__ = dict.__delitem__\n",
    "\n",
    "config = DotDict()\n",
    "config.data_root = '../data/'\n",
    "config.data_augmentation = 'standard'\n",
    "config.data_proportional = 1.0\n",
    "config.optim_bs = 80\n",
    "config.drop_rate = 0.01"
   ]
  },
  {
   "cell_type": "code",
   "execution_count": 8,
   "metadata": {},
   "outputs": [
    {
     "name": "stderr",
     "output_type": "stream",
     "text": [
      "125it [00:55,  2.25it/s]\n"
     ]
    },
    {
     "name": "stdout",
     "output_type": "stream",
     "text": [
      "0.9313 0.2163\n"
     ]
    }
   ],
   "source": [
    "config.data_name = 'CIFAR10_x32'\n",
    "CKPT = '../save/CIFAR10_x32/R20x1-BN-ReLU/Dropout/bs-0256_ne-0500_lr-0.03_mo-0.90_wd-0.0030_drop-0.01_fp32/42/best_acc.ckpt'\n",
    "M = 30\n",
    "\n",
    "# build dataloaders\n",
    "dataloaders = build_dataloaders(config)\n",
    "\n",
    "# build model\n",
    "model = FlaxResNet(\n",
    "    depth        = 20,\n",
    "    widen_factor = 1,\n",
    "    dtype        = jnp.float32,\n",
    "    pixel_mean   = (0.49, 0.48, 0.44),\n",
    "    pixel_std    = (0.2, 0.2, 0.2),\n",
    "    num_classes  = dataloaders['num_classes'],\n",
    "    conv         = partial(ConvDropFilter, use_bias=False,\n",
    "                           kernel_init=jax.nn.initializers.he_normal(),\n",
    "                           bias_init=jax.nn.initializers.zeros,\n",
    "                           drop_rate=config.drop_rate))\n",
    "\n",
    "# initialize model\n",
    "def initialize_model(key, model):\n",
    "    @jax.jit\n",
    "    def init(*args):\n",
    "        return model.init(*args)\n",
    "    return init({'params': key}, jnp.ones(dataloaders['image_shape'], model.dtype))\n",
    "initialize_model(jax.random.PRNGKey(0), model)\n",
    "\n",
    "# load pre-trained checkpoint\n",
    "ckpt = checkpoints.restore_checkpoint(CKPT, target=None)\n",
    "\n",
    "# define predict function\n",
    "def predict(images, params, image_stats, batch_stats):\n",
    "    rngs = jax.random.split(jax.random.PRNGKey(0), M)\n",
    "    return jnp.stack([model.apply({\n",
    "            'params': params,\n",
    "            'image_stats': image_stats,\n",
    "            'batch_stats': batch_stats,\n",
    "        }, images, rngs={'dropout': rng}, mutable='intermediates', use_running_average=True, deterministic=False\n",
    "        )[1]['intermediates']['cls.logit'][0] for rng in rngs])\n",
    "_predict = jax.pmap(partial(predict, params=ckpt['params'], image_stats=ckpt['image_stats'], batch_stats=ckpt['batch_stats']))\n",
    "\n",
    "# make predictions\n",
    "tst_logits = []\n",
    "tst_labels = []\n",
    "tst_loader = jax_utils.prefetch_to_device(dataloaders['tst_loader'](rng=None), size=2)\n",
    "for batch_idx, batch in tqdm(enumerate(tst_loader, start=1)):\n",
    "    _logits, _labels = _predict(batch['images']), batch['labels']\n",
    "    tst_logits.append(jax.device_put(_logits.transpose(0, 2, 1, 3).reshape(-1, M, dataloaders['num_classes']), CPU))\n",
    "    tst_labels.append(jax.device_put(_labels.reshape(-1), CPU))\n",
    "tst_logits = jnp.concatenate(tst_logits)\n",
    "tst_labels = jnp.concatenate(tst_labels)\n",
    "\n",
    "# evaluate predictions\n",
    "_confidences = jnp.mean(jax.nn.softmax(tst_logits, axis=-1), axis=1)\n",
    "_true_labels = tst_labels\n",
    "print('{:.4f}'.format(evaluate_acc(_confidences, _true_labels, log_input=False)),\n",
    "      '{:.4f}'.format(evaluate_nll(_confidences, _true_labels, log_input=False)))"
   ]
  },
  {
   "cell_type": "code",
   "execution_count": 9,
   "metadata": {},
   "outputs": [
    {
     "name": "stderr",
     "output_type": "stream",
     "text": [
      "125it [01:17,  1.61it/s]\n"
     ]
    },
    {
     "name": "stdout",
     "output_type": "stream",
     "text": [
      "0.9529 0.1528\n"
     ]
    }
   ],
   "source": [
    "config.data_name = 'CIFAR10_x32'\n",
    "CKPT = '../save/CIFAR10_x32/R20x4-BN-ReLU/Dropout/bs-0256_ne-0500_lr-0.01_mo-0.90_wd-0.0030_drop-0.01_fp32/42/best_acc.ckpt'\n",
    "M = 30\n",
    "\n",
    "# build dataloaders\n",
    "dataloaders = build_dataloaders(config)\n",
    "\n",
    "# build model\n",
    "model = FlaxResNet(\n",
    "    depth        = 20,\n",
    "    widen_factor = 4,\n",
    "    dtype        = jnp.float32,\n",
    "    pixel_mean   = (0.49, 0.48, 0.44),\n",
    "    pixel_std    = (0.2, 0.2, 0.2),\n",
    "    num_classes  = dataloaders['num_classes'],\n",
    "    conv         = partial(ConvDropFilter, use_bias=False,\n",
    "                           kernel_init=jax.nn.initializers.he_normal(),\n",
    "                           bias_init=jax.nn.initializers.zeros,\n",
    "                           drop_rate=config.drop_rate))\n",
    "\n",
    "# initialize model\n",
    "def initialize_model(key, model):\n",
    "    @jax.jit\n",
    "    def init(*args):\n",
    "        return model.init(*args)\n",
    "    return init({'params': key}, jnp.ones(dataloaders['image_shape'], model.dtype))\n",
    "initialize_model(jax.random.PRNGKey(0), model)\n",
    "\n",
    "# load pre-trained checkpoint\n",
    "ckpt = checkpoints.restore_checkpoint(CKPT, target=None)\n",
    "\n",
    "# define predict function\n",
    "def predict(images, params, image_stats, batch_stats):\n",
    "    rngs = jax.random.split(jax.random.PRNGKey(0), M)\n",
    "    return jnp.stack([model.apply({\n",
    "            'params': params,\n",
    "            'image_stats': image_stats,\n",
    "            'batch_stats': batch_stats,\n",
    "        }, images, rngs={'dropout': rng}, mutable='intermediates', use_running_average=True, deterministic=False\n",
    "        )[1]['intermediates']['cls.logit'][0] for rng in rngs])\n",
    "_predict = jax.pmap(partial(predict, params=ckpt['params'], image_stats=ckpt['image_stats'], batch_stats=ckpt['batch_stats']))\n",
    "\n",
    "# make predictions\n",
    "tst_logits = []\n",
    "tst_labels = []\n",
    "tst_loader = jax_utils.prefetch_to_device(dataloaders['tst_loader'](rng=None), size=2)\n",
    "for batch_idx, batch in tqdm(enumerate(tst_loader, start=1)):\n",
    "    _logits, _labels = _predict(batch['images']), batch['labels']\n",
    "    tst_logits.append(jax.device_put(_logits.transpose(0, 2, 1, 3).reshape(-1, M, dataloaders['num_classes']), CPU))\n",
    "    tst_labels.append(jax.device_put(_labels.reshape(-1), CPU))\n",
    "tst_logits = jnp.concatenate(tst_logits)\n",
    "tst_labels = jnp.concatenate(tst_labels)\n",
    "\n",
    "# evaluate predictions\n",
    "_confidences = jnp.mean(jax.nn.softmax(tst_logits, axis=-1), axis=1)\n",
    "_true_labels = tst_labels\n",
    "print('{:.4f}'.format(evaluate_acc(_confidences, _true_labels, log_input=False)),\n",
    "      '{:.4f}'.format(evaluate_nll(_confidences, _true_labels, log_input=False)))"
   ]
  },
  {
   "cell_type": "code",
   "execution_count": 10,
   "metadata": {},
   "outputs": [
    {
     "name": "stderr",
     "output_type": "stream",
     "text": [
      "125it [00:52,  2.39it/s]\n"
     ]
    },
    {
     "name": "stdout",
     "output_type": "stream",
     "text": [
      "0.6938 1.1213\n"
     ]
    }
   ],
   "source": [
    "config.data_name = 'CIFAR100_x32'\n",
    "CKPT = '../save/CIFAR100_x32/R20x1-BN-ReLU/Dropout/bs-0256_ne-0500_lr-0.30_mo-0.90_wd-0.0001_drop-0.03_fp32/42/best_acc.ckpt'\n",
    "M = 30\n",
    "\n",
    "# build dataloaders\n",
    "dataloaders = build_dataloaders(config)\n",
    "\n",
    "# build model\n",
    "model = FlaxResNet(\n",
    "    depth        = 20,\n",
    "    widen_factor = 1,\n",
    "    dtype        = jnp.float32,\n",
    "    pixel_mean   = (0.49, 0.48, 0.44),\n",
    "    pixel_std    = (0.2, 0.2, 0.2),\n",
    "    num_classes  = dataloaders['num_classes'],\n",
    "    conv         = partial(ConvDropFilter, use_bias=False,\n",
    "                           kernel_init=jax.nn.initializers.he_normal(),\n",
    "                           bias_init=jax.nn.initializers.zeros,\n",
    "                           drop_rate=config.drop_rate))\n",
    "\n",
    "# initialize model\n",
    "def initialize_model(key, model):\n",
    "    @jax.jit\n",
    "    def init(*args):\n",
    "        return model.init(*args)\n",
    "    return init({'params': key}, jnp.ones(dataloaders['image_shape'], model.dtype))\n",
    "initialize_model(jax.random.PRNGKey(0), model)\n",
    "\n",
    "# load pre-trained checkpoint\n",
    "ckpt = checkpoints.restore_checkpoint(CKPT, target=None)\n",
    "\n",
    "# define predict function\n",
    "def predict(images, params, image_stats, batch_stats):\n",
    "    rngs = jax.random.split(jax.random.PRNGKey(0), M)\n",
    "    return jnp.stack([model.apply({\n",
    "            'params': params,\n",
    "            'image_stats': image_stats,\n",
    "            'batch_stats': batch_stats,\n",
    "        }, images, rngs={'dropout': rng}, mutable='intermediates', use_running_average=True, deterministic=False\n",
    "        )[1]['intermediates']['cls.logit'][0] for rng in rngs])\n",
    "_predict = jax.pmap(partial(predict, params=ckpt['params'], image_stats=ckpt['image_stats'], batch_stats=ckpt['batch_stats']))\n",
    "\n",
    "# make predictions\n",
    "tst_logits = []\n",
    "tst_labels = []\n",
    "tst_loader = jax_utils.prefetch_to_device(dataloaders['tst_loader'](rng=None), size=2)\n",
    "for batch_idx, batch in tqdm(enumerate(tst_loader, start=1)):\n",
    "    _logits, _labels = _predict(batch['images']), batch['labels']\n",
    "    tst_logits.append(jax.device_put(_logits.transpose(0, 2, 1, 3).reshape(-1, M, dataloaders['num_classes']), CPU))\n",
    "    tst_labels.append(jax.device_put(_labels.reshape(-1), CPU))\n",
    "tst_logits = jnp.concatenate(tst_logits)\n",
    "tst_labels = jnp.concatenate(tst_labels)\n",
    "\n",
    "# evaluate predictions\n",
    "_confidences = jnp.mean(jax.nn.softmax(tst_logits, axis=-1), axis=1)\n",
    "_true_labels = tst_labels\n",
    "print('{:.4f}'.format(evaluate_acc(_confidences, _true_labels, log_input=False)),\n",
    "      '{:.4f}'.format(evaluate_nll(_confidences, _true_labels, log_input=False)))"
   ]
  },
  {
   "cell_type": "code",
   "execution_count": 11,
   "metadata": {},
   "outputs": [
    {
     "name": "stderr",
     "output_type": "stream",
     "text": [
      "125it [01:14,  1.68it/s]\n"
     ]
    },
    {
     "name": "stdout",
     "output_type": "stream",
     "text": [
      "0.7856 0.8273\n"
     ]
    }
   ],
   "source": [
    "config.data_name = 'CIFAR100_x32'\n",
    "CKPT = '../save/CIFAR100_x32/R20x4-BN-ReLU/Dropout/bs-0256_ne-0500_lr-0.03_mo-0.90_wd-0.0030_drop-0.03_fp32/42/best_acc.ckpt'\n",
    "M = 30\n",
    "\n",
    "# build dataloaders\n",
    "dataloaders = build_dataloaders(config)\n",
    "\n",
    "# build model\n",
    "model = FlaxResNet(\n",
    "    depth        = 20,\n",
    "    widen_factor = 4,\n",
    "    dtype        = jnp.float32,\n",
    "    pixel_mean   = (0.49, 0.48, 0.44),\n",
    "    pixel_std    = (0.2, 0.2, 0.2),\n",
    "    num_classes  = dataloaders['num_classes'],\n",
    "    conv         = partial(ConvDropFilter, use_bias=False,\n",
    "                           kernel_init=jax.nn.initializers.he_normal(),\n",
    "                           bias_init=jax.nn.initializers.zeros,\n",
    "                           drop_rate=config.drop_rate))\n",
    "\n",
    "# initialize model\n",
    "def initialize_model(key, model):\n",
    "    @jax.jit\n",
    "    def init(*args):\n",
    "        return model.init(*args)\n",
    "    return init({'params': key}, jnp.ones(dataloaders['image_shape'], model.dtype))\n",
    "initialize_model(jax.random.PRNGKey(0), model)\n",
    "\n",
    "# load pre-trained checkpoint\n",
    "ckpt = checkpoints.restore_checkpoint(CKPT, target=None)\n",
    "\n",
    "# define predict function\n",
    "def predict(images, params, image_stats, batch_stats):\n",
    "    rngs = jax.random.split(jax.random.PRNGKey(0), M)\n",
    "    return jnp.stack([model.apply({\n",
    "            'params': params,\n",
    "            'image_stats': image_stats,\n",
    "            'batch_stats': batch_stats,\n",
    "        }, images, rngs={'dropout': rng}, mutable='intermediates', use_running_average=True, deterministic=False\n",
    "        )[1]['intermediates']['cls.logit'][0] for rng in rngs])\n",
    "_predict = jax.pmap(partial(predict, params=ckpt['params'], image_stats=ckpt['image_stats'], batch_stats=ckpt['batch_stats']))\n",
    "\n",
    "# make predictions\n",
    "tst_logits = []\n",
    "tst_labels = []\n",
    "tst_loader = jax_utils.prefetch_to_device(dataloaders['tst_loader'](rng=None), size=2)\n",
    "for batch_idx, batch in tqdm(enumerate(tst_loader, start=1)):\n",
    "    _logits, _labels = _predict(batch['images']), batch['labels']\n",
    "    tst_logits.append(jax.device_put(_logits.transpose(0, 2, 1, 3).reshape(-1, M, dataloaders['num_classes']), CPU))\n",
    "    tst_labels.append(jax.device_put(_labels.reshape(-1), CPU))\n",
    "tst_logits = jnp.concatenate(tst_logits)\n",
    "tst_labels = jnp.concatenate(tst_labels)\n",
    "\n",
    "# evaluate predictions\n",
    "_confidences = jnp.mean(jax.nn.softmax(tst_logits, axis=-1), axis=1)\n",
    "_true_labels = tst_labels\n",
    "print('{:.4f}'.format(evaluate_acc(_confidences, _true_labels, log_input=False)),\n",
    "      '{:.4f}'.format(evaluate_nll(_confidences, _true_labels, log_input=False)))"
   ]
  }
 ],
 "metadata": {
  "kernelspec": {
   "display_name": "jax-siml",
   "language": "python",
   "name": "python3"
  },
  "language_info": {
   "codemirror_mode": {
    "name": "ipython",
    "version": 3
   },
   "file_extension": ".py",
   "mimetype": "text/x-python",
   "name": "python",
   "nbconvert_exporter": "python",
   "pygments_lexer": "ipython3",
   "version": "3.10.8"
  },
  "orig_nbformat": 4,
  "vscode": {
   "interpreter": {
    "hash": "86d3426a0e84a38b2370a275509451f3ae8d16cbb78581b0afd59b49f6429dd8"
   }
  }
 },
 "nbformat": 4,
 "nbformat_minor": 2
}
